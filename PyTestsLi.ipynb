{
 "cells": [
  {
   "cell_type": "code",
   "execution_count": 30,
   "metadata": {},
   "outputs": [],
   "source": [
    "import numpy as np\n",
    "import matplotlib.pyplot as plt"
   ]
  },
  {
   "cell_type": "code",
   "execution_count": 148,
   "metadata": {},
   "outputs": [],
   "source": [
    "n = 10"
   ]
  },
  {
   "cell_type": "code",
   "execution_count": 149,
   "metadata": {},
   "outputs": [
    {
     "name": "stdout",
     "output_type": "stream",
     "text": [
      "[ 11.  12.  13.  14.  15.  16.  17.  18.  19.  20.]\n"
     ]
    }
   ],
   "source": [
    "# Set delta as in the paper\n",
    "rho = 1.0\n",
    "# delta = np.random.normal(0.5 * n, 0.05 * n, n)\n",
    "delta = np.array([float(2 * n - i) for i in range(0, n)])\n",
    "delta = np.sort(delta)\n",
    "print(delta)"
   ]
  },
  {
   "cell_type": "code",
   "execution_count": 150,
   "metadata": {},
   "outputs": [
    {
     "name": "stdout",
     "output_type": "stream",
     "text": [
      "[ 10.   9.   8.   7.   6.   5.   4.   3.   2.   1.]\n"
     ]
    }
   ],
   "source": [
    "# Set zeta\n",
    "# zeta = np.random.normal(0, 1, n)\n",
    "zeta = np.array([float(n - i) for i in range(0, n)])\n",
    "print(zeta)"
   ]
  },
  {
   "cell_type": "code",
   "execution_count": 151,
   "metadata": {},
   "outputs": [],
   "source": [
    "def spectral_func(rho, delta, zeta, x):\n",
    "    return rho + np.sum(zeta ** 2 / (delta - x))"
   ]
  },
  {
   "cell_type": "code",
   "execution_count": 39,
   "metadata": {},
   "outputs": [],
   "source": [
    "def spectral_func_prime(delta, zeta, x):\n",
    "    return np.sum(zeta ** 2/(delta - x) ** 2)"
   ]
  },
  {
   "cell_type": "code",
   "execution_count": 40,
   "metadata": {},
   "outputs": [],
   "source": [
    "def g_spectral_func(rho, delta, zeta, x, k):\n",
    "    if k == delta.shape[0]:\n",
    "        k -= 1\n",
    "    delta_reduced = np.delete(delta, [k, k+1])\n",
    "    zeta_reduced = np.delete(zeta, [k, k+1])\n",
    "    return spectral_func(rho, delta_reduced, zeta_reduced, x)"
   ]
  },
  {
   "cell_type": "code",
   "execution_count": 175,
   "metadata": {},
   "outputs": [],
   "source": [
    "def h_spectral_func(rho, delta, zeta, x, k):\n",
    "    if k == delta.shape[0]:\n",
    "        k -= 1\n",
    "    delta_reduced = delta[k : k+2]\n",
    "    zeta_reduced = zeta[k : k+2]\n",
    "    return spectral_func(rho, delta_reduced, zeta_reduced, x) - rho"
   ]
  },
  {
   "cell_type": "code",
   "execution_count": 42,
   "metadata": {},
   "outputs": [],
   "source": [
    "def discriminant_formula_interior(a, b, c):\n",
    "    if a <= 0:\n",
    "        return float(a - np.sqrt(a ** 2 - 4 * b * c)) / float (2 * c)\n",
    "    else:\n",
    "        return float(2 * b) / float(a + np.sqrt(a ** 2 - 4 * b * c))"
   ]
  },
  {
   "cell_type": "code",
   "execution_count": 43,
   "metadata": {},
   "outputs": [],
   "source": [
    "def discriminant_formula_exterior(a, b, c):\n",
    "    if a >= 0:\n",
    "        return float(a + np.sqrt(a ** 2 - 4 * b * c)) / float (2 * c)\n",
    "    else:\n",
    "        return float(2 * b) / float(a - np.sqrt(a ** 2 - 4 * b * c))"
   ]
  },
  {
   "cell_type": "code",
   "execution_count": 44,
   "metadata": {},
   "outputs": [],
   "source": [
    "def interior_init(rho, delta, zeta, k):\n",
    "    middle = float(delta[k] + delta[k+1]) / 2.0\n",
    "    c = g_spectral_func(rho, delta, zeta, middle, k)\n",
    "    d = delta[k+1] - delta[k]\n",
    "    if spectral_func(rho, delta, zeta, middle) >= 0:\n",
    "        a = c * d + zeta[k] ** 2 + zeta[k+1] ** 2\n",
    "        b = zeta[k] ** 2 * d\n",
    "        return discriminant_formula_interior(a, b, c) + delta[k]\n",
    "    else:\n",
    "        a = - c * d + zeta[k] ** 2 + zeta[k+1] ** 2\n",
    "        b = - zeta[k + 1] ** 2 * d\n",
    "        return discriminant_formula_interior(a, b, c) + delta[k + 1]    "
   ]
  },
  {
   "cell_type": "code",
   "execution_count": 176,
   "metadata": {},
   "outputs": [],
   "source": [
    "def exterior_init(rho, delta, zeta):\n",
    "    n = delta.shape[0]\n",
    "    delta_n = delta[n - 1] + np.linalg.norm(zeta) ** 2 / float(rho)\n",
    "    middle = float(delta[n - 1] + delta_n) / 2.0\n",
    "    if spectral_func(rho, delta, zeta, middle) <= 0:\n",
    "        if g_spectral_func(rho, delta, zeta, middle, n - 2) <= - h_spectral_func(rho, delta, zeta, delta_n, n - 2):\n",
    "            return delta_n\n",
    "        else:\n",
    "            d = delta[n - 1] - delta[n - 2]\n",
    "            c = g_spectral_func(rho, delta, zeta, middle, n - 2)\n",
    "            a = - c * d +  zeta[n - 2] ** 2 + zeta[n - 1] ** 2\n",
    "            b = - zeta[n - 1] ** 2 * d\n",
    "            return discriminant_formula_exterior(a, b, c) + delta_n\n",
    "    else:\n",
    "        d = delta[n - 1] - delta[n - 2]\n",
    "        c = g_spectral_func(rho, delta, zeta, middle, n - 2)\n",
    "        a = - c * d +  zeta[n - 2] ** 2 + zeta[n - 1] ** 2\n",
    "        b = - zeta[n - 1] ** 2 * d\n",
    "        return discriminant_formula_exterior(a, b, c) + delta_n"
   ]
  },
  {
   "cell_type": "code",
   "execution_count": 177,
   "metadata": {},
   "outputs": [],
   "source": [
    "y = np.zeros((n, ))\n",
    "for k in range(0, n-1):\n",
    "    y[k] = interior_init(rho, delta, zeta, k)\n",
    "y[n - 1] = exterior_init(rho, delta, zeta)"
   ]
  },
  {
   "cell_type": "code",
   "execution_count": 178,
   "metadata": {},
   "outputs": [
    {
     "data": {
      "text/plain": [
       "array([  11.43816688,   12.56795621,   13.66760083,   14.74581516,\n",
       "         15.80981988,   16.86452109,   17.91250939,   18.95404378,\n",
       "         19.98609551,  405.        ])"
      ]
     },
     "execution_count": 178,
     "metadata": {},
     "output_type": "execute_result"
    }
   ],
   "source": [
    "y"
   ]
  },
  {
   "cell_type": "code",
   "execution_count": 154,
   "metadata": {},
   "outputs": [],
   "source": [
    "def spectral_func_second(delta, zeta, x):\n",
    "    return np.sum(2.0 * zeta ** 2 / (delta - x) ** 3)"
   ]
  },
  {
   "cell_type": "code",
   "execution_count": 155,
   "metadata": {},
   "outputs": [
    {
     "data": {
      "image/png": "[encoded data removed]",
      "text/plain": [
       "<matplotlib.figure.Figure at 0x7fc85a0acf50>"
      ]
     },
     "metadata": {},
     "output_type": "display_data"
    },
    {
     "data": {
      "image/png": "[encoded data removed]",
      "text/plain": [
       "<matplotlib.figure.Figure at 0x7fc857e00fd0>"
      ]
     },
     "metadata": {},
     "output_type": "display_data"
    },
    {
     "data": {
      "image/png": "[encoded data removed]",
      "text/plain": [
       "<matplotlib.figure.Figure at 0x7fc857e0fa10>"
      ]
     },
     "metadata": {},
     "output_type": "display_data"
    }
   ],
   "source": [
    "# Plot the functions between delta[k] and delta[k+1]\n",
    "test_spectral = lambda x: spectral_func(rho, delta, zeta, x)\n",
    "\n",
    "# Prime derivative\n",
    "test_spectral_prime = lambda x: spectral_func_prime(delta, zeta, x)\n",
    "\n",
    "test_spectral_second = lambda x: spectral_func_second(delta, zeta, x)\n",
    "\n",
    "# Slight perturbation to avoid divergence on the plot\n",
    "epsilon = 0.00001\n",
    "k = 5\n",
    "linspace = np.linspace(delta[k] + epsilon, delta[k+1] - epsilon, 10000)\n",
    "\n",
    "# Compute the values and plot the original function\n",
    "values = [test_spectral(x) for x in linspace]\n",
    "plt.figure()\n",
    "plt.plot(linspace, values)\n",
    "\n",
    "# Compute the values and plot the derivative\n",
    "values_prime = [test_spectral_prime(x) for x in linspace]\n",
    "plt.figure()\n",
    "plt.plot(linspace, values_prime)\n",
    "\n",
    "# Compute the values and plot the second derivative\n",
    "values_prime = [test_spectral_second(x) for x in linspace]\n",
    "plt.figure()\n",
    "plt.plot(linspace, values_prime)\n",
    "\n",
    "# Show\n",
    "plt.show()"
   ]
  },
  {
   "cell_type": "code",
   "execution_count": 179,
   "metadata": {},
   "outputs": [],
   "source": [
    "def abc_gragg_interior(rho, delta, zeta, x, k):\n",
    "    f = spectral_func(rho, delta, zeta, x)\n",
    "    fprime = spectral_func_prime(delta, zeta, x)\n",
    "    fsecond = spectral_func_second(delta, zeta, x)\n",
    "    delta_k = delta[k] - x\n",
    "    delta_kplus1 = delta[k+1] - x\n",
    "    c = f - (delta_k + delta_kplus1) * fprime + delta_k * delta_kplus1 * fsecond / 2.0\n",
    "    b = delta_k * delta_kplus1 * f\n",
    "    a = (delta_k + delta_kplus1) * f - delta_k * delta_kplus1 * fprime \n",
    "    return a, b, c"
   ]
  },
  {
   "cell_type": "code",
   "execution_count": 180,
   "metadata": {},
   "outputs": [],
   "source": [
    "def find_root_interior(rho, delta, zeta, x0, k, maxit, epsilon):\n",
    "    i = 0\n",
    "    f = 2 * np.sqrt(epsilon)\n",
    "    x = x0\n",
    "    while (np.abs(f) > epsilon) and (i < maxit):\n",
    "        a, b, c = abc_gragg_interior(rho, delta, zeta, x, k)\n",
    "        eta = discriminant_formula_interior(a, b, c)\n",
    "        x += eta \n",
    "        f = spectral_func(rho, delta, zeta, x)\n",
    "        i += 1\n",
    "    return x"
   ]
  },
  {
   "cell_type": "code",
   "execution_count": 190,
   "metadata": {},
   "outputs": [],
   "source": [
    "def find_root_exterior(rho, delta, zeta, x0, maxit, epsilon):\n",
    "    i = 0\n",
    "    f = 2 * epsilon\n",
    "    x = x0\n",
    "    while (np.abs(f) > epsilon) and (i < maxit):\n",
    "        a, b, c = abc_gragg_interior(rho, delta, zeta, x, n - 2)\n",
    "        print(a)\n",
    "        print(b)\n",
    "        print(c)\n",
    "        eta = discriminant_formula_exterior(a, b, c)\n",
    "        x += eta \n",
    "        f = spectral_func(rho, delta, zeta, x)\n",
    "        i += 1\n",
    "    print(i)\n",
    "    return x"
   ]
  },
  {
   "cell_type": "code",
   "execution_count": 182,
   "metadata": {},
   "outputs": [],
   "source": [
    "ytest = []\n",
    "for k in range(0, n-1):\n",
    "    ytest.append(find_root_interior(rho, delta, zeta, y[k], k, 10000, 1e-10))"
   ]
  },
  {
   "cell_type": "code",
   "execution_count": 183,
   "metadata": {},
   "outputs": [
    {
     "data": {
      "text/plain": [
       "[11.44119762080083,\n",
       " 12.560343874504827,\n",
       " 13.648764477558153,\n",
       " 14.72313717745962,\n",
       " 15.788960584876049,\n",
       " 16.848464222555499,\n",
       " 17.902160232228372,\n",
       " 18.948871582606856,\n",
       " 19.984634191202023]"
      ]
     },
     "execution_count": 183,
     "metadata": {},
     "output_type": "execute_result"
    }
   ],
   "source": [
    "ytest"
   ]
  },
  {
   "cell_type": "code",
   "execution_count": 191,
   "metadata": {},
   "outputs": [
    {
     "name": "stdout",
     "output_type": "stream",
     "text": [
      "-386.110332086\n",
      "2596.65587356\n",
      "0.999719147442\n",
      "-372.421211562\n",
      "-0.000233511418882\n",
      "0.999703936072\n",
      "2\n"
     ]
    }
   ],
   "source": [
    "ytest_ext = find_root_exterior(rho, delta, zeta, y[n-1], 1000, 1e-10)"
   ]
  },
  {
   "cell_type": "code",
   "execution_count": 185,
   "metadata": {},
   "outputs": [
    {
     "data": {
      "text/plain": [
       "1.1102230246251565e-16"
      ]
     },
     "execution_count": 185,
     "metadata": {},
     "output_type": "execute_result"
    }
   ],
   "source": [
    "spectral_func(rho, delta, zeta,ytest_ext)"
   ]
  },
  {
   "cell_type": "code",
   "execution_count": 188,
   "metadata": {},
   "outputs": [
    {
     "data": {
      "text/plain": [
       "398.15346603620776"
      ]
     },
     "execution_count": 188,
     "metadata": {},
     "output_type": "execute_result"
    }
   ],
   "source": [
    "ytest_ext"
   ]
  },
  {
   "cell_type": "code",
   "execution_count": 187,
   "metadata": {},
   "outputs": [
    {
     "data": {
      "text/plain": [
       "404.99999999999994"
      ]
     },
     "execution_count": 187,
     "metadata": {},
     "output_type": "execute_result"
    }
   ],
   "source": [
    "y[n-1]"
   ]
  },
  {
   "cell_type": "code",
   "execution_count": 164,
   "metadata": {},
   "outputs": [
    {
     "data": {
      "text/plain": [
       "[11.44119762080083,\n",
       " 12.560343874504827,\n",
       " 13.648764477558153,\n",
       " 14.72313717745962,\n",
       " 15.788960584876049,\n",
       " 16.848464222555499,\n",
       " 17.902160232228372,\n",
       " 18.948871582606856,\n",
       " 19.984634191202023]"
      ]
     },
     "execution_count": 164,
     "metadata": {},
     "output_type": "execute_result"
    }
   ],
   "source": [
    "ytest"
   ]
  },
  {
   "cell_type": "code",
   "execution_count": 165,
   "metadata": {},
   "outputs": [],
   "source": [
    "fcontrol = [spectral_func(rho, delta, zeta, t) for t in ytest]"
   ]
  },
  {
   "cell_type": "code",
   "execution_count": 166,
   "metadata": {},
   "outputs": [
    {
     "name": "stdout",
     "output_type": "stream",
     "text": [
      "[-3.2862601528904634e-14, 4.6329606817607782e-13, -1.170175067954915e-13, 4.4442227675745016e-13, -2.6423307986078726e-13, -7.560618797697316e-13, 6.8889338677990963e-13, 1.2386758285742872e-12, -3.5527136788005009e-13]\n"
     ]
    }
   ],
   "source": [
    "print(fcontrol)"
   ]
  },
  {
   "cell_type": "code",
   "execution_count": 147,
   "metadata": {},
   "outputs": [
    {
     "data": {
      "text/plain": [
       "-0.00050397036948690577"
      ]
     },
     "execution_count": 147,
     "metadata": {},
     "output_type": "execute_result"
    }
   ],
   "source": [
    "spectral_func(rho, delta, zeta, 11.441197)"
   ]
  },
  {
   "cell_type": "code",
   "execution_count": 145,
   "metadata": {},
   "outputs": [
    {
     "data": {
      "text/plain": [
       "5.193189794583645e-08"
      ]
     },
     "execution_count": 145,
     "metadata": {},
     "output_type": "execute_result"
    }
   ],
   "source": [
    "spectral_func_prime(delta, zeta, 86115.148438)"
   ]
  },
  {
   "cell_type": "code",
   "execution_count": 146,
   "metadata": {},
   "outputs": [
    {
     "data": {
      "text/plain": [
       "-1.2062877671880441e-12"
      ]
     },
     "execution_count": 146,
     "metadata": {},
     "output_type": "execute_result"
    }
   ],
   "source": [
    "spectral_func_second(delta, zeta, 86115.148438)"
   ]
  },
  {
   "cell_type": "code",
   "execution_count": 174,
   "metadata": {},
   "outputs": [
    {
     "data": {
      "text/plain": [
       "-0.00050397036948690577"
      ]
     },
     "execution_count": 174,
     "metadata": {},
     "output_type": "execute_result"
    }
   ],
   "source": [
    "spectral_func(rho, delta, zeta, 11.441197)"
   ]
  },
  {
   "cell_type": "code",
   "execution_count": null,
   "metadata": {},
   "outputs": [],
   "source": []
  }
 ],
 "metadata": {
  "kernelspec": {
   "display_name": "Python 2",
   "language": "python",
   "name": "python2"
  },
  "language_info": {
   "codemirror_mode": {
    "name": "ipython",
    "version": 2
   },
   "file_extension": ".py",
   "mimetype": "text/x-python",
   "name": "python",
   "nbconvert_exporter": "python",
   "pygments_lexer": "ipython2",
   "version": "2.7.12"
  }
 },
 "nbformat": 4,
 "nbformat_minor": 2
}
