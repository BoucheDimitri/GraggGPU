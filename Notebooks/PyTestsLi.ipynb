{
 "cells": [
  {
   "cell_type": "code",
   "execution_count": 30,
   "metadata": {},
   "outputs": [],
   "source": [
    "import numpy as np\n",
    "import matplotlib.pyplot as plt"
   ]
  },
  {
   "cell_type": "code",
   "execution_count": 193,
   "metadata": {},
   "outputs": [],
   "source": [
    "n = 100"
   ]
  },
  {
   "cell_type": "code",
   "execution_count": 209,
   "metadata": {},
   "outputs": [
    {
     "name": "stdout",
     "output_type": "stream",
     "text": [
      "[   2.    3.    4.    5.    6.    7.    8.    9.   10.   11.   12.   13.\n",
      "   14.   15.   16.   17.   18.   19.   20.   21.   22.   23.   24.   25.\n",
      "   26.   27.   28.   29.   30.   31.   32.   33.   34.   35.   36.   37.\n",
      "   38.   39.   40.   41.   42.   43.   44.   45.   46.   47.   48.   49.\n",
      "   50.   51.   52.   53.   54.   55.   56.   57.   58.   59.   60.   61.\n",
      "   62.   63.   64.   65.   66.   67.   68.   69.   70.   71.   72.   73.\n",
      "   74.   75.   76.   77.   78.   79.   80.   81.   82.   83.   84.   85.\n",
      "   86.   87.   88.   89.   90.   91.   92.   93.   94.   95.   96.   97.\n",
      "   98.   99.  100.  101.]\n"
     ]
    }
   ],
   "source": [
    "# Set delta as in the paper\n",
    "rho = 10.0\n",
    "# delta = np.random.normal(100, 10, n)\n",
    "delta = np.array([float(n + 1 - i) for i in range(0, n)])\n",
    "delta = np.sort(delta)\n",
    "print(delta)"
   ]
  },
  {
   "cell_type": "code",
   "execution_count": 210,
   "metadata": {},
   "outputs": [
    {
     "name": "stdout",
     "output_type": "stream",
     "text": [
      "[ 6.984331    6.10347039  4.79094367  3.93704766  4.18538626  5.43614722\n",
      "  4.70567847  5.11197486  5.00700438  2.73229739  5.60755742  4.4326778\n",
      "  3.25268794  4.85585749  4.90086367  3.63320372  3.82154492  5.36390759\n",
      "  4.56715549  5.76931047  4.99698611  5.84670197  2.97352325  6.00390495\n",
      "  4.4117242   4.23493166  6.20401994  5.14349345  5.28836254  4.5725182\n",
      "  5.34744495  6.34661437  4.05846179  2.22958212  5.31093748  4.01419042\n",
      "  4.2394539   4.08089764  3.73065965  5.44952937  4.27876545  4.5297938\n",
      "  4.01372826  4.88466545  4.1422082   6.1547188   6.22865392  5.85487706\n",
      "  4.84825705  6.74322396  4.14137201  4.52914527  7.29089797  4.00368504\n",
      "  5.24298195  4.69065743  4.05144794  5.95350669  5.55223581  5.09057888\n",
      "  3.49203392  4.57943319  2.97571957  5.12483612  4.78991431  6.87810543\n",
      "  3.58966334  5.12229418  5.74014932  4.40572238  4.72813714  5.37743216\n",
      "  5.14398987  6.02238674  4.95405851  4.5843406   6.62695399  4.95132618\n",
      "  3.59790353  5.97383416  2.59662045  6.21151607  4.91962241  3.71301094\n",
      "  5.47227192  6.63413172  3.67849923  4.92197417  4.93587991  4.01673798\n",
      "  4.9125907   3.72921695  5.96145188  4.07283572  2.88506281  4.72491146\n",
      "  6.07708201  7.24831039  5.19711147  4.90551707]\n"
     ]
    }
   ],
   "source": [
    "# Set zeta\n",
    "zeta = np.random.normal(5, 1, n)\n",
    "# zeta = np.array([float(n - i) for i in range(0, n)])\n",
    "print(zeta)"
   ]
  },
  {
   "cell_type": "code",
   "execution_count": 151,
   "metadata": {},
   "outputs": [],
   "source": [
    "def spectral_func(rho, delta, zeta, x):\n",
    "    return rho + np.sum(zeta ** 2 / (delta - x))"
   ]
  },
  {
   "cell_type": "code",
   "execution_count": 39,
   "metadata": {},
   "outputs": [],
   "source": [
    "def spectral_func_prime(delta, zeta, x):\n",
    "    return np.sum(zeta ** 2/(delta - x) ** 2)"
   ]
  },
  {
   "cell_type": "code",
   "execution_count": 40,
   "metadata": {},
   "outputs": [],
   "source": [
    "def g_spectral_func(rho, delta, zeta, x, k):\n",
    "    if k == delta.shape[0]:\n",
    "        k -= 1\n",
    "    delta_reduced = np.delete(delta, [k, k+1])\n",
    "    zeta_reduced = np.delete(zeta, [k, k+1])\n",
    "    return spectral_func(rho, delta_reduced, zeta_reduced, x)"
   ]
  },
  {
   "cell_type": "code",
   "execution_count": 175,
   "metadata": {},
   "outputs": [],
   "source": [
    "def h_spectral_func(rho, delta, zeta, x, k):\n",
    "    if k == delta.shape[0]:\n",
    "        k -= 1\n",
    "    delta_reduced = delta[k : k+2]\n",
    "    zeta_reduced = zeta[k : k+2]\n",
    "    return spectral_func(rho, delta_reduced, zeta_reduced, x) - rho"
   ]
  },
  {
   "cell_type": "code",
   "execution_count": 42,
   "metadata": {},
   "outputs": [],
   "source": [
    "def discriminant_formula_interior(a, b, c):\n",
    "    if a <= 0:\n",
    "        return float(a - np.sqrt(a ** 2 - 4 * b * c)) / float (2 * c)\n",
    "    else:\n",
    "        return float(2 * b) / float(a + np.sqrt(a ** 2 - 4 * b * c))"
   ]
  },
  {
   "cell_type": "code",
   "execution_count": 43,
   "metadata": {},
   "outputs": [],
   "source": [
    "def discriminant_formula_exterior(a, b, c):\n",
    "    if a >= 0:\n",
    "        return float(a + np.sqrt(a ** 2 - 4 * b * c)) / float (2 * c)\n",
    "    else:\n",
    "        return float(2 * b) / float(a - np.sqrt(a ** 2 - 4 * b * c))"
   ]
  },
  {
   "cell_type": "code",
   "execution_count": 44,
   "metadata": {},
   "outputs": [],
   "source": [
    "def interior_init(rho, delta, zeta, k):\n",
    "    middle = float(delta[k] + delta[k+1]) / 2.0\n",
    "    c = g_spectral_func(rho, delta, zeta, middle, k)\n",
    "    d = delta[k+1] - delta[k]\n",
    "    if spectral_func(rho, delta, zeta, middle) >= 0:\n",
    "        a = c * d + zeta[k] ** 2 + zeta[k+1] ** 2\n",
    "        b = zeta[k] ** 2 * d\n",
    "        return discriminant_formula_interior(a, b, c) + delta[k]\n",
    "    else:\n",
    "        a = - c * d + zeta[k] ** 2 + zeta[k+1] ** 2\n",
    "        b = - zeta[k + 1] ** 2 * d\n",
    "        return discriminant_formula_interior(a, b, c) + delta[k + 1]    "
   ]
  },
  {
   "cell_type": "code",
   "execution_count": 176,
   "metadata": {},
   "outputs": [],
   "source": [
    "def exterior_init(rho, delta, zeta):\n",
    "    n = delta.shape[0]\n",
    "    delta_n = delta[n - 1] + np.linalg.norm(zeta) ** 2 / float(rho)\n",
    "    middle = float(delta[n - 1] + delta_n) / 2.0\n",
    "    if spectral_func(rho, delta, zeta, middle) <= 0:\n",
    "        if g_spectral_func(rho, delta, zeta, middle, n - 2) <= - h_spectral_func(rho, delta, zeta, delta_n, n - 2):\n",
    "            return delta_n\n",
    "        else:\n",
    "            d = delta[n - 1] - delta[n - 2]\n",
    "            c = g_spectral_func(rho, delta, zeta, middle, n - 2)\n",
    "            a = - c * d +  zeta[n - 2] ** 2 + zeta[n - 1] ** 2\n",
    "            b = - zeta[n - 1] ** 2 * d\n",
    "            return discriminant_formula_exterior(a, b, c) + delta_n\n",
    "    else:\n",
    "        d = delta[n - 1] - delta[n - 2]\n",
    "        c = g_spectral_func(rho, delta, zeta, middle, n - 2)\n",
    "        a = - c * d +  zeta[n - 2] ** 2 + zeta[n - 1] ** 2\n",
    "        b = - zeta[n - 1] ** 2 * d\n",
    "        return discriminant_formula_exterior(a, b, c) + delta_n"
   ]
  },
  {
   "cell_type": "code",
   "execution_count": 196,
   "metadata": {},
   "outputs": [],
   "source": [
    "y = np.zeros((n, ))\n",
    "for k in range(0, n-1):\n",
    "    y[k] = interior_init(rho, delta, zeta, k)\n",
    "y[n - 1] = exterior_init(rho, delta, zeta)"
   ]
  },
  {
   "cell_type": "code",
   "execution_count": 197,
   "metadata": {},
   "outputs": [
    {
     "data": {
      "text/plain": [
       "array([    73.34444777,     82.72070289,     83.45106158,     85.81158959,\n",
       "           87.02998447,     87.20069854,     87.3957983 ,     87.5445967 ,\n",
       "           87.85185443,     88.04518299,     88.31192591,     88.42610956,\n",
       "           88.67938225,     88.85998303,     89.25847646,     89.37664968,\n",
       "           89.51961463,     89.9019216 ,     90.19274503,     92.06736815,\n",
       "           92.58469456,     92.67259667,     93.06373868,     93.5941976 ,\n",
       "           93.99567091,     94.21789333,     94.79036771,     94.9912379 ,\n",
       "           95.12103593,     96.28934399,     96.34016467,     96.39184355,\n",
       "           96.70189539,     96.96656954,     97.07797628,     97.17824853,\n",
       "           97.28751384,     97.407223  ,     97.64115938,     97.82584335,\n",
       "           97.98584351,     98.08781614,     98.26595957,     98.53585121,\n",
       "           98.79485175,     98.879933  ,     99.01979282,     99.41162921,\n",
       "           99.6553942 ,     99.9303177 ,    100.13981699,    100.22892381,\n",
       "          100.47731659,    100.8434488 ,    101.26093882,    101.49771307,\n",
       "          102.07138169,    103.26426702,    103.6031484 ,    103.81073128,\n",
       "          103.98822711,    104.20365013,    104.40368785,    104.76228912,\n",
       "          105.00921475,    105.67242622,    105.94395929,    106.29443383,\n",
       "          106.72441119,    106.97205387,    107.27708485,    107.60605492,\n",
       "          107.86430652,    108.17229116,    108.89078018,    109.31235994,\n",
       "          109.34882952,    109.43312492,    109.52297849,    109.97259615,\n",
       "          110.6136172 ,    110.73161947,    111.27948638,    111.80598552,\n",
       "          112.05036969,    112.53759197,    112.94937104,    113.11185586,\n",
       "          113.30998949,    113.7771938 ,    114.3015942 ,    116.0323841 ,\n",
       "          116.18414865,    116.28826096,    116.64325191,    117.00767932,\n",
       "          118.97401188,    120.86730592,    127.03588619,  10593.78936249])"
      ]
     },
     "execution_count": 197,
     "metadata": {},
     "output_type": "execute_result"
    }
   ],
   "source": [
    "y"
   ]
  },
  {
   "cell_type": "code",
   "execution_count": 154,
   "metadata": {},
   "outputs": [],
   "source": [
    "def spectral_func_second(delta, zeta, x):\n",
    "    return np.sum(2.0 * zeta ** 2 / (delta - x) ** 3)"
   ]
  },
  {
   "cell_type": "code",
   "execution_count": 155,
   "metadata": {},
   "outputs": [
    {
     "data": {
      "image/png": "[encoded data removed]",
      "text/plain": [
       "<matplotlib.figure.Figure at 0x7fc85a0acf50>"
      ]
     },
     "metadata": {},
     "output_type": "display_data"
    },
    {
     "data": {
      "image/png": "[encoded data removed]",
      "text/plain": [
       "<matplotlib.figure.Figure at 0x7fc857e00fd0>"
      ]
     },
     "metadata": {},
     "output_type": "display_data"
    },
    {
     "data": {
      "image/png": "[encoded data removed]",
      "text/plain": [
       "<matplotlib.figure.Figure at 0x7fc857e0fa10>"
      ]
     },
     "metadata": {},
     "output_type": "display_data"
    }
   ],
   "source": [
    "# Plot the functions between delta[k] and delta[k+1]\n",
    "test_spectral = lambda x: spectral_func(rho, delta, zeta, x)\n",
    "\n",
    "# Prime derivative\n",
    "test_spectral_prime = lambda x: spectral_func_prime(delta, zeta, x)\n",
    "\n",
    "test_spectral_second = lambda x: spectral_func_second(delta, zeta, x)\n",
    "\n",
    "# Slight perturbation to avoid divergence on the plot\n",
    "epsilon = 0.00001\n",
    "k = 5\n",
    "linspace = np.linspace(delta[k] + epsilon, delta[k+1] - epsilon, 10000)\n",
    "\n",
    "# Compute the values and plot the original function\n",
    "values = [test_spectral(x) for x in linspace]\n",
    "plt.figure()\n",
    "plt.plot(linspace, values)\n",
    "\n",
    "# Compute the values and plot the derivative\n",
    "values_prime = [test_spectral_prime(x) for x in linspace]\n",
    "plt.figure()\n",
    "plt.plot(linspace, values_prime)\n",
    "\n",
    "# Compute the values and plot the second derivative\n",
    "values_prime = [test_spectral_second(x) for x in linspace]\n",
    "plt.figure()\n",
    "plt.plot(linspace, values_prime)\n",
    "\n",
    "# Show\n",
    "plt.show()"
   ]
  },
  {
   "cell_type": "code",
   "execution_count": 179,
   "metadata": {},
   "outputs": [],
   "source": [
    "def abc_gragg_interior(rho, delta, zeta, x, k):\n",
    "    f = spectral_func(rho, delta, zeta, x)\n",
    "    fprime = spectral_func_prime(delta, zeta, x)\n",
    "    fsecond = spectral_func_second(delta, zeta, x)\n",
    "    delta_k = delta[k] - x\n",
    "    delta_kplus1 = delta[k+1] - x\n",
    "    c = f - (delta_k + delta_kplus1) * fprime + delta_k * delta_kplus1 * fsecond / 2.0\n",
    "    b = delta_k * delta_kplus1 * f\n",
    "    a = (delta_k + delta_kplus1) * f - delta_k * delta_kplus1 * fprime \n",
    "    return a, b, c"
   ]
  },
  {
   "cell_type": "code",
   "execution_count": 180,
   "metadata": {},
   "outputs": [],
   "source": [
    "def find_root_interior(rho, delta, zeta, x0, k, maxit, epsilon):\n",
    "    i = 0\n",
    "    f = 2 * np.sqrt(epsilon)\n",
    "    x = x0\n",
    "    while (np.abs(f) > epsilon) and (i < maxit):\n",
    "        a, b, c = abc_gragg_interior(rho, delta, zeta, x, k)\n",
    "        eta = discriminant_formula_interior(a, b, c)\n",
    "        x += eta \n",
    "        f = spectral_func(rho, delta, zeta, x)\n",
    "        i += 1\n",
    "    return x"
   ]
  },
  {
   "cell_type": "code",
   "execution_count": 190,
   "metadata": {},
   "outputs": [],
   "source": [
    "def find_root_exterior(rho, delta, zeta, x0, maxit, epsilon):\n",
    "    i = 0\n",
    "    f = 2 * epsilon\n",
    "    x = x0\n",
    "    while (np.abs(f) > epsilon) and (i < maxit):\n",
    "        a, b, c = abc_gragg_interior(rho, delta, zeta, x, n - 2)\n",
    "        print(a)\n",
    "        print(b)\n",
    "        print(c)\n",
    "        eta = discriminant_formula_exterior(a, b, c)\n",
    "        x += eta \n",
    "        f = spectral_func(rho, delta, zeta, x)\n",
    "        i += 1\n",
    "    print(i)\n",
    "    return x"
   ]
  },
  {
   "cell_type": "code",
   "execution_count": 198,
   "metadata": {},
   "outputs": [],
   "source": [
    "ytest = []\n",
    "for k in range(0, n-1):\n",
    "    ytest.append(find_root_interior(rho, delta, zeta, y[k], k, 10000, 1e-10))"
   ]
  },
  {
   "cell_type": "code",
   "execution_count": 199,
   "metadata": {},
   "outputs": [
    {
     "data": {
      "text/plain": [
       "[73.375560878466345,\n",
       " 82.724222737859535,\n",
       " 83.486460946602378,\n",
       " 85.830816336783883,\n",
       " 87.030220777202913,\n",
       " 87.206660085897937,\n",
       " 87.395871437103096,\n",
       " 87.578100847006525,\n",
       " 87.854082240820063,\n",
       " 88.059705678056531,\n",
       " 88.318298011146126,\n",
       " 88.42610955779017,\n",
       " 88.651792325246305,\n",
       " 88.903373377540618,\n",
       " 89.258476451085855,\n",
       " 89.366554254417039,\n",
       " 89.517729841443852,\n",
       " 89.886242715402801,\n",
       " 90.60185219521901,\n",
       " 92.088776726032606,\n",
       " 92.584694636945386,\n",
       " 92.688577324475048,\n",
       " 93.098310929522114,\n",
       " 93.609669755333059,\n",
       " 93.995918877801927,\n",
       " 94.255129904273176,\n",
       " 94.790254955983755,\n",
       " 94.980153546168353,\n",
       " 95.288530831594912,\n",
       " 96.291667389409866,\n",
       " 96.340164801685077,\n",
       " 96.391828125546439,\n",
       " 96.680509095622398,\n",
       " 96.954034089414591,\n",
       " 97.082116229631112,\n",
       " 97.179377957262133,\n",
       " 97.28749878205943,\n",
       " 97.440741427689048,\n",
       " 97.641161055358438,\n",
       " 97.815028541876728,\n",
       " 97.986937205506791,\n",
       " 98.087401747205021,\n",
       " 98.281298503298558,\n",
       " 98.535687465069586,\n",
       " 98.755772424060567,\n",
       " 98.881786146079889,\n",
       " 99.019328620547313,\n",
       " 99.39012824124373,\n",
       " 99.653816570270536,\n",
       " 99.929450678869031,\n",
       " 100.12741749524426,\n",
       " 100.22983701583286,\n",
       " 100.47337061166964,\n",
       " 100.82543297711992,\n",
       " 101.23748849333703,\n",
       " 101.49761232242456,\n",
       " 102.04257860335548,\n",
       " 102.98587153771724,\n",
       " 103.60325206158035,\n",
       " 103.80428161431766,\n",
       " 104.00065457209553,\n",
       " 104.20359117151838,\n",
       " 104.39840748518704,\n",
       " 104.74994512298191,\n",
       " 105.0161578970184,\n",
       " 105.64637216670999,\n",
       " 105.99251959345268,\n",
       " 106.29443653714969,\n",
       " 106.6802886090949,\n",
       " 106.9827183438945,\n",
       " 107.27702505820628,\n",
       " 107.59610693799698,\n",
       " 107.85653006352176,\n",
       " 108.16854205427812,\n",
       " 108.81647413420299,\n",
       " 109.31304020683677,\n",
       " 109.3488276080593,\n",
       " 109.42571097320173,\n",
       " 109.52572725824868,\n",
       " 109.96373823469017,\n",
       " 110.53049510418043,\n",
       " 110.731623059892,\n",
       " 111.27190159100572,\n",
       " 111.75220401434176,\n",
       " 112.05030866067843,\n",
       " 112.52111370817481,\n",
       " 112.92198732931222,\n",
       " 113.11176272948845,\n",
       " 113.30475597637746,\n",
       " 113.76119335515016,\n",
       " 114.29727168465458,\n",
       " 115.90778555478761,\n",
       " 116.18414864195317,\n",
       " 116.28328782245845,\n",
       " 116.63192093555915,\n",
       " 117.00502166086962,\n",
       " 118.95160390249592,\n",
       " 120.85541410849622,\n",
       " 126.98970476678507]"
      ]
     },
     "execution_count": 199,
     "metadata": {},
     "output_type": "execute_result"
    }
   ],
   "source": [
    "ytest"
   ]
  },
  {
   "cell_type": "code",
   "execution_count": 200,
   "metadata": {},
   "outputs": [
    {
     "name": "stdout",
     "output_type": "stream",
     "text": [
      "-10472.8380529\n",
      "280333.588013\n",
      "0.99999413558\n",
      "1\n"
     ]
    }
   ],
   "source": [
    "ytest_ext = find_root_exterior(rho, delta, zeta, y[n-1], 1000, 1e-10)"
   ]
  },
  {
   "cell_type": "code",
   "execution_count": 201,
   "metadata": {},
   "outputs": [
    {
     "data": {
      "text/plain": [
       "-9.9253938401488995e-14"
      ]
     },
     "execution_count": 201,
     "metadata": {},
     "output_type": "execute_result"
    }
   ],
   "source": [
    "spectral_func(rho, delta, zeta,ytest_ext)"
   ]
  },
  {
   "cell_type": "code",
   "execution_count": 204,
   "metadata": {},
   "outputs": [
    {
     "data": {
      "text/plain": [
       "[73.375560878466345,\n",
       " 82.724222737859535,\n",
       " 83.486460946602378,\n",
       " 85.830816336783883,\n",
       " 87.030220777202913,\n",
       " 87.206660085897937,\n",
       " 87.395871437103096,\n",
       " 87.578100847006525,\n",
       " 87.854082240820063,\n",
       " 88.059705678056531,\n",
       " 88.318298011146126,\n",
       " 88.42610955779017,\n",
       " 88.651792325246305,\n",
       " 88.903373377540618,\n",
       " 89.258476451085855,\n",
       " 89.366554254417039,\n",
       " 89.517729841443852,\n",
       " 89.886242715402801,\n",
       " 90.60185219521901,\n",
       " 92.088776726032606,\n",
       " 92.584694636945386,\n",
       " 92.688577324475048,\n",
       " 93.098310929522114,\n",
       " 93.609669755333059,\n",
       " 93.995918877801927,\n",
       " 94.255129904273176,\n",
       " 94.790254955983755,\n",
       " 94.980153546168353,\n",
       " 95.288530831594912,\n",
       " 96.291667389409866,\n",
       " 96.340164801685077,\n",
       " 96.391828125546439,\n",
       " 96.680509095622398,\n",
       " 96.954034089414591,\n",
       " 97.082116229631112,\n",
       " 97.179377957262133,\n",
       " 97.28749878205943,\n",
       " 97.440741427689048,\n",
       " 97.641161055358438,\n",
       " 97.815028541876728,\n",
       " 97.986937205506791,\n",
       " 98.087401747205021,\n",
       " 98.281298503298558,\n",
       " 98.535687465069586,\n",
       " 98.755772424060567,\n",
       " 98.881786146079889,\n",
       " 99.019328620547313,\n",
       " 99.39012824124373,\n",
       " 99.653816570270536,\n",
       " 99.929450678869031,\n",
       " 100.12741749524426,\n",
       " 100.22983701583286,\n",
       " 100.47337061166964,\n",
       " 100.82543297711992,\n",
       " 101.23748849333703,\n",
       " 101.49761232242456,\n",
       " 102.04257860335548,\n",
       " 102.98587153771724,\n",
       " 103.60325206158035,\n",
       " 103.80428161431766,\n",
       " 104.00065457209553,\n",
       " 104.20359117151838,\n",
       " 104.39840748518704,\n",
       " 104.74994512298191,\n",
       " 105.0161578970184,\n",
       " 105.64637216670999,\n",
       " 105.99251959345268,\n",
       " 106.29443653714969,\n",
       " 106.6802886090949,\n",
       " 106.9827183438945,\n",
       " 107.27702505820628,\n",
       " 107.59610693799698,\n",
       " 107.85653006352176,\n",
       " 108.16854205427812,\n",
       " 108.81647413420299,\n",
       " 109.31304020683677,\n",
       " 109.3488276080593,\n",
       " 109.42571097320173,\n",
       " 109.52572725824868,\n",
       " 109.96373823469017,\n",
       " 110.53049510418043,\n",
       " 110.731623059892,\n",
       " 111.27190159100572,\n",
       " 111.75220401434176,\n",
       " 112.05030866067843,\n",
       " 112.52111370817481,\n",
       " 112.92198732931222,\n",
       " 113.11176272948845,\n",
       " 113.30475597637746,\n",
       " 113.76119335515016,\n",
       " 114.29727168465458,\n",
       " 115.90778555478761,\n",
       " 116.18414864195317,\n",
       " 116.28328782245845,\n",
       " 116.63192093555915,\n",
       " 117.00502166086962,\n",
       " 118.95160390249592,\n",
       " 120.85541410849622,\n",
       " 126.98970476678507]"
      ]
     },
     "execution_count": 204,
     "metadata": {},
     "output_type": "execute_result"
    }
   ],
   "source": [
    "ytest"
   ]
  },
  {
   "cell_type": "code",
   "execution_count": 205,
   "metadata": {},
   "outputs": [],
   "source": [
    "fcontrol = [spectral_func(rho, delta, zeta, t) for t in ytest]"
   ]
  },
  {
   "cell_type": "code",
   "execution_count": 206,
   "metadata": {},
   "outputs": [
    {
     "name": "stdout",
     "output_type": "stream",
     "text": [
      "[1.7374102156964e-11, -4.1637804315541871e-12, 1.2311929253883136e-11, -7.4551032014369412e-11, -1.7799690610331709e-09, -3.7363445670735018e-11, 5.0238035953498184e-11, 4.2832848379248389e-11, -2.581632685405566e-10, -1.6472156971758523e-11, -3.2437208474789259e-10, -8.2671634507036629e-06, 3.5244696050540369e-11, -3.9352965330863299e-11, -4.4641196517147819e-08, 3.8702685500879852e-10, 3.0237679027322883e-10, 4.7079673493044538e-11, -4.6784798257704097e-12, 5.0466297807361116e-11, 8.8464269687449359e-08, -1.1312728531720495e-10, -2.19824158875781e-11, 1.532018956140746e-11, 2.44670950166892e-10, 2.3979929153483681e-11, 2.1721557885712173e-10, -1.0367262603949712e-10, 1.2689405082255689e-11, -2.9620430552768084e-09, -2.8756681125230443e-07, 1.2222542977724515e-09, -4.7341686126856075e-11, -8.2849282989627682e-12, 9.5380592313176749e-11, 4.7293902127876208e-10, -2.127489295844498e-10, 3.3145042266369273e-11, -3.8346687603052487e-08, 7.1073813501243421e-11, -4.8430859322934339e-10, 6.4449778847119887e-11, -7.2744477108699357e-11, -1.0657155158355636e-09, 6.2585492344169324e-11, -5.1741100293156705e-10, -6.8924421725569118e-11, 8.7530871439867042e-11, -9.6358476753266586e-12, -2.5495161537492095e-11, -1.0528733440651195e-10, -5.1047699400896818e-10, 2.0749624241034326e-11, -6.8051342339003895e-11, 3.8222758291794889e-11, 6.0685145797378937e-10, 2.6147084497551987e-11, 2.9413804725209047e-11, -9.5354035778427715e-10, -1.5337953129801463e-11, -4.0891734442993766e-12, 5.1037840620438146e-10, 3.5632830019949324e-11, 3.1322500149144616e-11, -8.4534157451798819e-11, -1.1438849867317913e-11, -1.0429879182538571e-11, 1.9159016595438061e-08, 2.1811885630995675e-11, -4.5812242888132459e-11, 1.4131007475270962e-10, 3.1818991885756986e-11, 6.8611782921834674e-12, -6.3512750614336255e-11, 3.1175062531474396e-13, -1.6747314646181621e-09, -3.8234213128873762e-08, 5.4268767257781292e-10, -3.3539393484716129e-11, 1.170246122228491e-10, 2.1673329797522456e-11, 5.5026756484721773e-09, -9.2216012603785202e-11, 2.8704150167868647e-11, -4.0837022652340238e-10, 4.6984638402136625e-12, -5.0127013651035668e-11, -1.3187246850066003e-09, 1.7138290786533616e-10, 4.7672088498984522e-11, -1.184652376196027e-11, 1.4052758956495381e-11, -6.1775887516546391e-08, 3.6542857628774073e-10, 9.9428021371750219e-11, -7.7786665997336968e-11, 1.2288836614970933e-11, -2.6822988274943782e-11, 8.4696694102603942e-12]\n"
     ]
    }
   ],
   "source": [
    "print(fcontrol)"
   ]
  }
 ],
 "metadata": {
  "kernelspec": {
   "display_name": "Python 2",
   "language": "python",
   "name": "python2"
  },
  "language_info": {
   "codemirror_mode": {
    "name": "ipython",
    "version": 2
   },
   "file_extension": ".py",
   "mimetype": "text/x-python",
   "name": "python",
   "nbconvert_exporter": "python",
   "pygments_lexer": "ipython2",
   "version": "2.7.12"
  }
 },
 "nbformat": 4,
 "nbformat_minor": 2
}
