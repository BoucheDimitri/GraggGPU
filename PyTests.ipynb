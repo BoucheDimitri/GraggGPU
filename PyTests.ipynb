{
 "cells": [
  {
   "cell_type": "code",
   "execution_count": 2,
   "metadata": {},
   "outputs": [],
   "source": [
    "import numpy as np\n",
    "import matplotlib.pyplot as plt"
   ]
  },
  {
   "cell_type": "code",
   "execution_count": 3,
   "metadata": {},
   "outputs": [],
   "source": [
    "def generate_arrow(a, b, gamma):\n",
    "    sorted_a = np.sort(a)\n",
    "    n = a.shape[0] + 1\n",
    "    arrow = np.zeros((n, n))\n",
    "    if not np.all(np.greater(b, 0)):\n",
    "        raise UserWarning(\"All of b's entries must be > 0\")\n",
    "    diag_arrow = np.concatenate((a, np.array([gamma])))\n",
    "    np.fill_diagonal(arrow, diag_arrow)\n",
    "    arrow[-1, :n - 1] = b\n",
    "    arrow[:n - 1, -1] = b.T\n",
    "    return arrow"
   ]
  },
  {
   "cell_type": "code",
   "execution_count": 6,
   "metadata": {},
   "outputs": [],
   "source": [
    "a = np.array([20, 19, 18, 17, 16, 15, 14, 13, 12])\n",
    "b = np.array([10, 9, 8, 7, 6, 5, 4, 3, 2])\n",
    "gamma = 1\n",
    "test_arrow = generate_arrow(a, b, gamma)\n",
    "n = a.shape[0] + 1"
   ]
  },
  {
   "cell_type": "code",
   "execution_count": 7,
   "metadata": {},
   "outputs": [
    {
     "data": {
      "text/plain": [
       "array([[20.,  0.,  0.,  0.,  0.,  0.,  0.,  0.,  0., 10.],\n",
       "       [ 0., 19.,  0.,  0.,  0.,  0.,  0.,  0.,  0.,  9.],\n",
       "       [ 0.,  0., 18.,  0.,  0.,  0.,  0.,  0.,  0.,  8.],\n",
       "       [ 0.,  0.,  0., 17.,  0.,  0.,  0.,  0.,  0.,  7.],\n",
       "       [ 0.,  0.,  0.,  0., 16.,  0.,  0.,  0.,  0.,  6.],\n",
       "       [ 0.,  0.,  0.,  0.,  0., 15.,  0.,  0.,  0.,  5.],\n",
       "       [ 0.,  0.,  0.,  0.,  0.,  0., 14.,  0.,  0.,  4.],\n",
       "       [ 0.,  0.,  0.,  0.,  0.,  0.,  0., 13.,  0.,  3.],\n",
       "       [ 0.,  0.,  0.,  0.,  0.,  0.,  0.,  0., 12.,  2.],\n",
       "       [10.,  9.,  8.,  7.,  6.,  5.,  4.,  3.,  2.,  1.]])"
      ]
     },
     "execution_count": 7,
     "metadata": {},
     "output_type": "execute_result"
    }
   ],
   "source": [
    "test_arrow"
   ]
  },
  {
   "cell_type": "code",
   "execution_count": 12,
   "metadata": {},
   "outputs": [],
   "source": [
    "def spectral_func(a, b, gamma, lamb):\n",
    "    b_sqr = np.power(b, 2)\n",
    "    sum_term = np.sum(b_sqr / (a - lamb))\n",
    "    return lamb - gamma + sum_term"
   ]
  },
  {
   "cell_type": "code",
   "execution_count": 16,
   "metadata": {},
   "outputs": [
    {
     "name": "stdout",
     "output_type": "stream",
     "text": [
      "[25.  19.5 18.5 17.5 16.5 15.5 14.5 13.5 12.5  7. ]\n",
      "[-33.7800949050949, -26.434976134976132, 58.14983904983908, 99.2012987012987, 118.61111111111109, 124.72222222222223, 121.96753246753248, 113.23411033411033, 100.77250527250527, 42.871203796203794]\n"
     ]
    }
   ],
   "source": [
    "# Verification for the result yielded by the program in cuda C:\n",
    "x = np.zeros((n, ))\n",
    "for i in range(1, n-1):\n",
    "    x[i] = (a[i - 1] + a[i]) / 2\n",
    "x[0] = a[0] + 5\n",
    "x[n-1] = a[n-2] -5\n",
    "print(x)\n",
    "print([spectral_func(a, b, gamma, t) for t in x])"
   ]
  },
  {
   "cell_type": "code",
   "execution_count": 14,
   "metadata": {},
   "outputs": [],
   "source": [
    "def spectral_func_prime(a, b, lamb):\n",
    "    b_sqr = np.power(b, 2)\n",
    "    a_minus_lamb_sqr = np.power(a - lamb, 2)\n",
    "    sum_term = np.sum(b_sqr / a_minus_lamb_sqr)\n",
    "    return 1 + sum_term"
   ]
  },
  {
   "cell_type": "code",
   "execution_count": 15,
   "metadata": {},
   "outputs": [
    {
     "data": {
      "image/png": "[encoded data removed]",
      "text/plain": [
       "<matplotlib.figure.Figure at 0x7f147e6189b0>"
      ]
     },
     "metadata": {},
     "output_type": "display_data"
    },
    {
     "data": {
      "image/png": "[encoded data removed]",
      "text/plain": [
       "<matplotlib.figure.Figure at 0x7f147e6191d0>"
      ]
     },
     "metadata": {},
     "output_type": "display_data"
    }
   ],
   "source": [
    "# Plot the functions between a[0] and a[1]\n",
    "test_spectral = lambda x: spectral_func(a, b, gamma, x)\n",
    "\n",
    "# Prime derivative\n",
    "test_spectral_prime = lambda x: spectral_func_prime(a, b, x)\n",
    "\n",
    "# Slight perturbation to avoid divergence on the plot\n",
    "epsilon = 0.05\n",
    "linspace = np.linspace(a[1] + epsilon, a[0] - epsilon, 10000)\n",
    "\n",
    "# Compute the values and plot the original function\n",
    "values = [test_spectral(x) for x in linspace]\n",
    "plt.figure()\n",
    "plt.plot(linspace, values)\n",
    "\n",
    "# Compute the values and plot the derivative\n",
    "values_prime = [test_spectral_prime(x) for x in linspace]\n",
    "plt.figure()\n",
    "plt.plot(linspace, values_prime)\n",
    "\n",
    "# Show\n",
    "plt.show()"
   ]
  },
  {
   "cell_type": "code",
   "execution_count": 25,
   "metadata": {},
   "outputs": [],
   "source": [
    "def interior_sigma_coef(a, b, gamma, x, k):\n",
    "    first_term = 3 * x - (gamma + a[k - 1] + a[k])\n",
    "    to_sum1 = np.power(b, 2) / (a - x)\n",
    "    to_sum2 = (a - a[k-1]) / (a - x)\n",
    "    to_sum3 = (a - a[k]) / (a - x)\n",
    "    return first_term + np.sum(to_sum1 * to_sum2 * to_sum3)"
   ]
  },
  {
   "cell_type": "code",
   "execution_count": 26,
   "metadata": {},
   "outputs": [],
   "source": [
    "def interior_omega1_coef(a, b, gamma, x, k):\n",
    "    a_reduced = np.delete(a, k - 1)\n",
    "    b_reduced = np.delete(b, k - 1)\n",
    "    to_sum1 = np.power(b_reduced, 2) / np.power(a_reduced - x, 2)\n",
    "    to_sum2 = (a_reduced - a[k]) / (a_reduced - x)\n",
    "    fac = np.power(a[k - 1] - x, 3) / (a[k - 1] - a[k])\n",
    "    return b[k - 1] ** 2 + fac * (1 + np.sum(to_sum1 * to_sum2))"
   ]
  },
  {
   "cell_type": "code",
   "execution_count": 27,
   "metadata": {},
   "outputs": [],
   "source": [
    "def interior_omega2_coef(a, b, gamma, x, k):\n",
    "    a_reduced = np.delete(a, k)\n",
    "    b_reduced = np.delete(b, k)\n",
    "    to_sum1 = np.power(b_reduced, 2) / np.power(a_reduced - x, 2)\n",
    "    to_sum2 = (a_reduced - a[k - 1]) / (a_reduced - x)\n",
    "    fac = np.power(x - a[k], 3) / (a[k - 1] - a[k])\n",
    "    return b[k] ** 2 + fac * (1 + np.sum(to_sum1 * to_sum2))"
   ]
  },
  {
   "cell_type": "code",
   "execution_count": 46,
   "metadata": {},
   "outputs": [],
   "source": [
    "def rationnal_interpolation(a, b, gamma, x, y, k) : \n",
    "    sig = interior_omega1_coef(a, b, gamma, x, k)\n",
    "    omega1 = interior_omega1_coef(a, b, gamma, x, k)\n",
    "    omega2 = interior_omega2_coef(a, b, gamma, x, k)\n",
    "    return sig + omega1 / (a[k-1] - y) + omega1 / (a[k] - y)"
   ]
  },
  {
   "cell_type": "code",
   "execution_count": 67,
   "metadata": {},
   "outputs": [
    {
     "data": {
      "image/png": "[encoded data removed]",
      "text/plain": [
       "<matplotlib.figure.Figure at 0x7f90b0656ba8>"
      ]
     },
     "metadata": {},
     "output_type": "display_data"
    }
   ],
   "source": [
    "# Plot the rationnal interpolation between a[0] and a[1] in (a[0] + a[1]) / 2\n",
    "x0 = (a[0] + a[1]) / 2\n",
    "\n",
    "# Slight perturbation to avoid divergence on the plot\n",
    "epsilon = 0.05\n",
    "linspace = np.linspace(a[1] + epsilon, a[0] - epsilon, 1000)\n",
    "\n",
    "# Rationnal interpolation\n",
    "test_inter = lambda y: rationnal_interpolation(a, b, gamma, x0, y, 1)\n",
    "values_inter = [test_inter(y) for y in linspace]\n",
    "\n",
    "# Original function within the same bounds\n",
    "test_spectral = lambda x: spectral_func(a, b, gamma, x)\n",
    "values = [test_spectral(x) for x in linspace]\n",
    "\n",
    "# Show\n",
    "plt.plot(linspace, values, label=\"Original\")\n",
    "plt.plot(linspace, values_inter, label=\"Interpolation\")\n",
    "plt.legend()\n",
    "plt.show()"
   ]
  },
  {
   "cell_type": "code",
   "execution_count": 29,
   "metadata": {},
   "outputs": [],
   "source": [
    "def interior_alpha(a, b, gamma, x, k):\n",
    "    sig = interior_sigma_coef(a, b, gamma, x, k)\n",
    "    deno = (a[k - 1] - x) * (x - a[k])\n",
    "    return sig / deno"
   ]
  },
  {
   "cell_type": "code",
   "execution_count": 30,
   "metadata": {},
   "outputs": [],
   "source": [
    "def interior_beta(a, b, gamma, x, k):\n",
    "    prime = spectral_func_prime(a, b, x)\n",
    "    fac = (1 / (a[k - 1] - x)) + (1 / (a[k] - x))\n",
    "    func = spectral_func(a, b, gamma, x)\n",
    "    return prime - fac * func"
   ]
  },
  {
   "cell_type": "code",
   "execution_count": 19,
   "metadata": {},
   "outputs": [],
   "source": [
    "def interior_increment(a, b, gamma, x, k):\n",
    "    f = spectral_func(a, b, gamma, x)\n",
    "    beta = interior_beta(a, b, gamma, x, k)\n",
    "    alpha = interior_alpha(a, b, gamma, x, k)\n",
    "    term1 = 2 * f / beta\n",
    "    term2 = 2 * alpha / beta\n",
    "    deno = 1 + np.sqrt(1 + term1 * term2)\n",
    "    return term1 / deno"
   ]
  },
  {
   "cell_type": "code",
   "execution_count": 69,
   "metadata": {},
   "outputs": [],
   "source": [
    "def interior_zero_finder(a, b, gamma, x0, k, epsilon=0.0001, maxit=1000):\n",
    "    i = 0\n",
    "    dist = np.inf\n",
    "    x = x0\n",
    "    func_track = []\n",
    "    x_track = []\n",
    "    x_track.append(x0)\n",
    "    func = spectral_func(a, b, gamma, x) \n",
    "    func_track.append(func)\n",
    "    dist = func ** 2\n",
    "    while (dist > epsilon) and (i < maxit):\n",
    "        delta = interior_increment(a, b, gamma, x, k)\n",
    "        x -= delta\n",
    "        func = spectral_func(a, b, gamma, x) \n",
    "        dist = func ** 2\n",
    "        func_track.append(func)\n",
    "        x_track.append(x)\n",
    "    return x, x_track, func_track"
   ]
  },
  {
   "cell_type": "code",
   "execution_count": 70,
   "metadata": {},
   "outputs": [],
   "source": [
    "x, xtrack, functrack = interior_zero_finder(a, b, gamma, 8.5, 1)"
   ]
  },
  {
   "cell_type": "code",
   "execution_count": 71,
   "metadata": {},
   "outputs": [
    {
     "data": {
      "text/plain": [
       "[8.5, 8.21843436790015, 8.217093325008303]"
      ]
     },
     "execution_count": 71,
     "metadata": {},
     "output_type": "execute_result"
    }
   ],
   "source": [
    "xtrack"
   ]
  },
  {
   "cell_type": "code",
   "execution_count": 74,
   "metadata": {},
   "outputs": [
    {
     "data": {
      "text/plain": [
       "[<matplotlib.lines.Line2D at 0x7f90b081e048>]"
      ]
     },
     "execution_count": 74,
     "metadata": {},
     "output_type": "execute_result"
    },
    {
     "data": {
      "image/png": "[encoded data removed]",
      "text/plain": [
       "<matplotlib.figure.Figure at 0x7f90b08e9908>"
      ]
     },
     "metadata": {},
     "output_type": "display_data"
    }
   ],
   "source": [
    "plt.plot(functrack)"
   ]
  },
  {
   "cell_type": "code",
   "execution_count": null,
   "metadata": {},
   "outputs": [],
   "source": []
  }
 ],
 "metadata": {
  "kernelspec": {
   "display_name": "Python 2",
   "language": "python",
   "name": "python2"
  },
  "language_info": {
   "codemirror_mode": {
    "name": "ipython",
    "version": 3
   },
   "file_extension": ".py",
   "mimetype": "text/x-python",
   "name": "python",
   "nbconvert_exporter": "python",
   "pygments_lexer": "ipython3",
   "version": "3.6.4"
  }
 },
 "nbformat": 4,
 "nbformat_minor": 2
}
