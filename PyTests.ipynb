{
 "cells": [
  {
   "cell_type": "code",
   "execution_count": 4,
   "metadata": {},
   "outputs": [],
   "source": [
    "import numpy as np\n",
    "import matplotlib.pyplot as plt"
   ]
  },
  {
   "cell_type": "code",
   "execution_count": 5,
   "metadata": {},
   "outputs": [],
   "source": [
    "def generate_arrow(a, b, gamma):\n",
    "    sorted_a = np.sort(a)\n",
    "    n = a.shape[0] + 1\n",
    "    arrow = np.zeros((n, n))\n",
    "    if not np.all(np.greater(b, 0)):\n",
    "        raise UserWarning(\"All of b's entries must be > 0\")\n",
    "    diag_arrow = np.concatenate((a, np.array([gamma])))\n",
    "    np.fill_diagonal(arrow, diag_arrow)\n",
    "    arrow[-1, :n - 1] = b\n",
    "    arrow[:n - 1, -1] = b.T\n",
    "    return arrow"
   ]
  },
  {
   "cell_type": "code",
   "execution_count": 6,
   "metadata": {},
   "outputs": [],
   "source": [
    "a = np.array([10, 7, 4, 2])\n",
    "b = np.array([6, 4, 7, 2])\n",
    "gamma = 3\n",
    "test_arrow = generate_arrow(a, b, gamma)"
   ]
  },
  {
   "cell_type": "code",
   "execution_count": 7,
   "metadata": {},
   "outputs": [
    {
     "data": {
      "text/plain": [
       "array([[10.,  0.,  0.,  0.,  6.],\n",
       "       [ 0.,  7.,  0.,  0.,  4.],\n",
       "       [ 0.,  0.,  4.,  0.,  7.],\n",
       "       [ 0.,  0.,  0.,  2.,  2.],\n",
       "       [ 6.,  4.,  7.,  2.,  3.]])"
      ]
     },
     "execution_count": 7,
     "metadata": {},
     "output_type": "execute_result"
    }
   ],
   "source": [
    "test_arrow"
   ]
  },
  {
   "cell_type": "code",
   "execution_count": 8,
   "metadata": {},
   "outputs": [],
   "source": [
    "def spectral_func(a, b, gamma, lamb):\n",
    "    b_sqr = np.power(b, 2)\n",
    "    sum_term = np.sum(b_sqr / (a - lamb))\n",
    "    return lamb - gamma + sum_term"
   ]
  },
  {
   "cell_type": "code",
   "execution_count": 9,
   "metadata": {},
   "outputs": [],
   "source": [
    "def spectral_func_prime(a, b, lamb):\n",
    "    b_sqr = np.power(b, 2)\n",
    "    a_minus_lamb_sqr = np.power(a - lamb, 2)\n",
    "    sum_term = np.sum(b_sqr / a_minus_lamb_sqr)\n",
    "    return 1 + sum_term"
   ]
  },
  {
   "cell_type": "code",
   "execution_count": 10,
   "metadata": {},
   "outputs": [
    {
     "data": {
      "image/png": "[encoded data removed]",
      "text/plain": [
       "<matplotlib.figure.Figure at 0x7f90b8ef0710>"
      ]
     },
     "metadata": {},
     "output_type": "display_data"
    }
   ],
   "source": [
    "test_spectral = lambda x: spectral_func(a, b, gamma, x)\n",
    "linspace = np.linspace(7.01, 9.99, 10000)\n",
    "values = [test_spectral(x) for x in linspace]\n",
    "plt.plot(linspace, values)\n",
    "plt.show()"
   ]
  },
  {
   "cell_type": "code",
   "execution_count": 11,
   "metadata": {},
   "outputs": [
    {
     "data": {
      "image/png": "[encoded data removed]",
      "text/plain": [
       "<matplotlib.figure.Figure at 0x7f90b08cb6a0>"
      ]
     },
     "metadata": {},
     "output_type": "display_data"
    }
   ],
   "source": [
    "test_spectral_prime = lambda x: spectral_func_prime(a, b, x)\n",
    "linspace = np.linspace(7.01, 9.99, 10000)\n",
    "values = [test_spectral_prime(x) for x in linspace]\n",
    "plt.plot(linspace, values)\n",
    "plt.show()"
   ]
  },
  {
   "cell_type": "code",
   "execution_count": 12,
   "metadata": {},
   "outputs": [],
   "source": [
    "def interior_sigma_coef(a, b, gamma, x, k):\n",
    "    first_term = 3 * x - (gamma + a[k - 1] + a[k])\n",
    "    to_sum1 = np.power(b, 2) / (a - x)\n",
    "    to_sum2 = (a - a[k-1]) / (a - x)\n",
    "    to_sum3 = (a - a[k]) / (a - x)\n",
    "    return first_term + np.sum(to_sum1 * to_sum2 * to_sum3)"
   ]
  },
  {
   "cell_type": "code",
   "execution_count": 13,
   "metadata": {},
   "outputs": [],
   "source": [
    "def interior_omega1_coef(a, b, gamma, x, k):\n",
    "    a_reduced = np.delete(a, k - 1)\n",
    "    b_reduced = np.delete(b, k - 1)\n",
    "    to_sum1 = np.power(b_reduced, 2) / np.power(a_reduced - x, 2)\n",
    "    to_sum2 = (a_reduced - a[k]) / (a_reduced - x)\n",
    "    fac = np.power(a[k - 1] - x, 3) / (a[k - 1] - a[k])\n",
    "    return b[k - 1] ** 2 + fac * (1 + np.sum(to_sum1 * to_sum2))"
   ]
  },
  {
   "cell_type": "code",
   "execution_count": 14,
   "metadata": {},
   "outputs": [],
   "source": [
    "def interior_omega2_coef(a, b, gamma, x, k):\n",
    "    a_reduced = np.delete(a, k)\n",
    "    b_reduced = np.delete(b, k)\n",
    "    to_sum1 = np.power(b_reduced, 2) / np.power(a_reduced - x, 2)\n",
    "    to_sum2 = (a_reduced - a[k - 1]) / (a_reduced - x)\n",
    "    fac = np.power(x - a[k], 3) / (a[k - 1] - a[k])\n",
    "    return b[k] ** 2 + fac * (1 + np.sum(to_sum1 * to_sum2))"
   ]
  },
  {
   "cell_type": "code",
   "execution_count": 15,
   "metadata": {},
   "outputs": [
    {
     "name": "stdout",
     "output_type": "stream",
     "text": [
      "21.175592899164723\n",
      "-1472.2674712804303\n",
      "1002.3139854781166\n"
     ]
    }
   ],
   "source": [
    "sig = interior_sigma_coef(a, b, gamma, 0.15, 1)\n",
    "omega1 = interior_omega1_coef(a, b, gamma, 0.15, 1)\n",
    "omega2 = interior_omega2_coef(a, b, gamma, 0.15, 1)\n",
    "print(sig)\n",
    "print(omega1)\n",
    "print(omega2)"
   ]
  },
  {
   "cell_type": "code",
   "execution_count": 16,
   "metadata": {},
   "outputs": [],
   "source": [
    "def interior_alpha(a, b, gamma, x, k):\n",
    "    sig = interior_sigma_coef(a, b, gamma, x, k)\n",
    "    deno = (a[k - 1] - x) * (x - a[k])\n",
    "    return sig / deno"
   ]
  },
  {
   "cell_type": "code",
   "execution_count": 17,
   "metadata": {},
   "outputs": [],
   "source": [
    "def interior_beta(a, b, gamma, x, k):\n",
    "    prime = spectral_func_prime(a, b, x)\n",
    "    fac = (1 / (a[k - 1] - x)) + (1 / (a[k] - x))\n",
    "    func = spectral_func(a, b, gamma, x)\n",
    "    return prime - fac * func"
   ]
  },
  {
   "cell_type": "code",
   "execution_count": 18,
   "metadata": {},
   "outputs": [
    {
     "name": "stdout",
     "output_type": "stream",
     "text": [
      "-0.3138403482776646\n",
      "1.7239776855202118\n"
     ]
    }
   ],
   "source": [
    "alpha = interior_alpha(a, b, gamma, 0.15, 1)\n",
    "beta = interior_beta(a, b, gamma, 0.15, 1)\n",
    "print(alpha)\n",
    "print(beta)"
   ]
  },
  {
   "cell_type": "code",
   "execution_count": 19,
   "metadata": {},
   "outputs": [],
   "source": [
    "def interior_increment(a, b, gamma, x, k):\n",
    "    f = spectral_func(a, b, gamma, x)\n",
    "    beta = interior_beta(a, b, gamma, x, k)\n",
    "    alpha = interior_alpha(a, b, gamma, x, k)\n",
    "    term1 = 2 * f / beta\n",
    "    term2 = 2 * alpha / beta\n",
    "    deno = 1 + np.sqrt(1 + term1 * term2)\n",
    "    return term1 / deno"
   ]
  },
  {
   "cell_type": "code",
   "execution_count": 20,
   "metadata": {},
   "outputs": [],
   "source": [
    "def interior_zero_finder(a, b, gamma, x0, k, epsilon=0.0001, maxit=1000):\n",
    "    i = 0\n",
    "    dist = np.inf\n",
    "    x = x0\n",
    "    func_track = []\n",
    "    func = spectral_func(a, b, gamma, x) \n",
    "    func_track.append(func)\n",
    "    dist = func ** 2\n",
    "    while (dist > epsilon) and (i < maxit):\n",
    "        delta = interior_increment(a, b, gamma, x, k)\n",
    "        x += delta\n",
    "        func = spectral_func(a, b, gamma, x) \n",
    "        dist = func ** 2\n",
    "        func_track.append(func)\n",
    "    return x, func_track"
   ]
  },
  {
   "cell_type": "code",
   "execution_count": 21,
   "metadata": {},
   "outputs": [
    {
     "name": "stderr",
     "output_type": "stream",
     "text": [
      "/home/dimitribouche/anaconda3/lib/python3.6/site-packages/ipykernel_launcher.py:7: RuntimeWarning: invalid value encountered in sqrt\n",
      "  import sys\n"
     ]
    }
   ],
   "source": [
    "x, track = interior_zero_finder(a, b, gamma, 8.5, 1)"
   ]
  },
  {
   "cell_type": "code",
   "execution_count": 22,
   "metadata": {},
   "outputs": [
    {
     "data": {
      "text/plain": [
       "[7.32905982905983,\n",
       " 15.50929045630978,\n",
       " 44.05942655816947,\n",
       " -94.34357502920048,\n",
       " -15.119718803233303,\n",
       " 0.05074075125944866,\n",
       " 0.1013048125805529,\n",
       " 0.20190964851600945,\n",
       " 0.40107249266006306,\n",
       " 0.7915648724379274,\n",
       " 1.5438085203976701,\n",
       " 2.950889446446361,\n",
       " 5.479989142678182,\n",
       " 9.931558724836659,\n",
       " nan]"
      ]
     },
     "execution_count": 22,
     "metadata": {},
     "output_type": "execute_result"
    }
   ],
   "source": [
    "track"
   ]
  },
  {
   "cell_type": "code",
   "execution_count": 23,
   "metadata": {},
   "outputs": [
    {
     "data": {
      "text/plain": [
       "[<matplotlib.lines.Line2D at 0x7f90b07eb978>]"
      ]
     },
     "execution_count": 23,
     "metadata": {},
     "output_type": "execute_result"
    },
    {
     "data": {
      "image/png": "[encoded data removed]",
      "text/plain": [
       "<matplotlib.figure.Figure at 0x7f90d81b25f8>"
      ]
     },
     "metadata": {},
     "output_type": "display_data"
    }
   ],
   "source": [
    "plt.plot(track)"
   ]
  },
  {
   "cell_type": "code",
   "execution_count": null,
   "metadata": {},
   "outputs": [],
   "source": []
  }
 ],
 "metadata": {
  "kernelspec": {
   "display_name": "Python 2",
   "language": "python",
   "name": "python2"
  },
  "language_info": {
   "codemirror_mode": {
    "name": "ipython",
    "version": 3
   },
   "file_extension": ".py",
   "mimetype": "text/x-python",
   "name": "python",
   "nbconvert_exporter": "python",
   "pygments_lexer": "ipython3",
   "version": "3.6.4"
  }
 },
 "nbformat": 4,
 "nbformat_minor": 2
}
