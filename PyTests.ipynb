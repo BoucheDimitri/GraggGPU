{
 "cells": [
  {
   "cell_type": "code",
   "execution_count": 28,
   "metadata": {},
   "outputs": [],
   "source": [
    "import numpy as np\n",
    "import matplotlib.pyplot as plt"
   ]
  },
  {
   "cell_type": "code",
   "execution_count": 29,
   "metadata": {
    "collapsed": true
   },
   "outputs": [],
   "source": [
    "def generate_arrow(a, b, gamma):\n",
    "    sorted_a = np.sort(a)\n",
    "    n = a.shape[0] + 1\n",
    "    arrow = np.zeros((n, n))\n",
    "    if not np.all(np.greater(b, 0)):\n",
    "        raise UserWarning(\"All of b's entries must be > 0\")\n",
    "    diag_arrow = np.concatenate((a, np.array([gamma])))\n",
    "    np.fill_diagonal(arrow, diag_arrow)\n",
    "    arrow[-1, :n - 1] = b\n",
    "    arrow[:n - 1, -1] = b.T\n",
    "    return arrow"
   ]
  },
  {
   "cell_type": "code",
   "execution_count": 30,
   "metadata": {},
   "outputs": [],
   "source": [
    "a = np.array([20, 19, 18, 17, 16, 15, 14, 13, 12])\n",
    "b = np.array([10, 9, 8, 7, 6, 5, 4, 3, 2])\n",
    "gamma = 1\n",
    "test_arrow = generate_arrow(a, b, gamma)\n",
    "n = a.shape[0] + 1"
   ]
  },
  {
   "cell_type": "code",
   "execution_count": 31,
   "metadata": {},
   "outputs": [
    {
     "data": {
      "text/plain": [
       "array([[ 20.,   0.,   0.,   0.,   0.,   0.,   0.,   0.,   0.,  10.],\n",
       "       [  0.,  19.,   0.,   0.,   0.,   0.,   0.,   0.,   0.,   9.],\n",
       "       [  0.,   0.,  18.,   0.,   0.,   0.,   0.,   0.,   0.,   8.],\n",
       "       [  0.,   0.,   0.,  17.,   0.,   0.,   0.,   0.,   0.,   7.],\n",
       "       [  0.,   0.,   0.,   0.,  16.,   0.,   0.,   0.,   0.,   6.],\n",
       "       [  0.,   0.,   0.,   0.,   0.,  15.,   0.,   0.,   0.,   5.],\n",
       "       [  0.,   0.,   0.,   0.,   0.,   0.,  14.,   0.,   0.,   4.],\n",
       "       [  0.,   0.,   0.,   0.,   0.,   0.,   0.,  13.,   0.,   3.],\n",
       "       [  0.,   0.,   0.,   0.,   0.,   0.,   0.,   0.,  12.,   2.],\n",
       "       [ 10.,   9.,   8.,   7.,   6.,   5.,   4.,   3.,   2.,   1.]])"
      ]
     },
     "execution_count": 31,
     "metadata": {},
     "output_type": "execute_result"
    }
   ],
   "source": [
    "test_arrow"
   ]
  },
  {
   "cell_type": "code",
   "execution_count": 32,
   "metadata": {
    "collapsed": true
   },
   "outputs": [],
   "source": [
    "def spectral_func(a, b, gamma, lamb):\n",
    "    b_sqr = np.power(b, 2)\n",
    "    sum_term = np.sum(b_sqr / (a - lamb))\n",
    "    return lamb - gamma + sum_term"
   ]
  },
  {
   "cell_type": "code",
   "execution_count": 33,
   "metadata": {
    "collapsed": true
   },
   "outputs": [],
   "source": [
    "def spectral_func_prime(a, b, lamb):\n",
    "    b_sqr = np.power(b, 2)\n",
    "    a_minus_lamb_sqr = np.power(a - lamb, 2)\n",
    "    sum_term = np.sum(b_sqr / a_minus_lamb_sqr)\n",
    "    return 1 + sum_term"
   ]
  },
  {
   "cell_type": "code",
   "execution_count": 34,
   "metadata": {},
   "outputs": [
    {
     "name": "stdout",
     "output_type": "stream",
     "text": [
      "[ 25.   19.5  18.5  17.5  16.5  15.5  14.5  13.5  12.5   7. ]\n",
      "[-33.780094905094899, -26.434976134976132, 58.14983904983908, 99.201298701298697, 118.61111111111109, 124.72222222222223, 121.96753246753248, 113.23411033411033, 100.77250527250527, 42.871203796203794]\n",
      "[10.234591937435967, 766.27084233830828, 656.20535722291299, 526.8827982983828, 405.17104560342653, 297.44593600403124, 206.01027491988529, 131.85393257178805, 75.280279728165183, 4.7447416528554136]\n"
     ]
    }
   ],
   "source": [
    "# Verification for the result yielded by the program in cuda C:\n",
    "x = np.zeros((n, ))\n",
    "for i in range(1, n-1):\n",
    "    x[i] = (a[i - 1] + a[i]) / 2\n",
    "x[0] = a[0] + 5\n",
    "x[n-1] = a[n-2] -5\n",
    "print(x)\n",
    "print([spectral_func(a, b, gamma, t) for t in x])\n",
    "print([spectral_func_prime(a, b, t) for t in x])"
   ]
  },
  {
   "cell_type": "code",
   "execution_count": 35,
   "metadata": {},
   "outputs": [
    {
     "data": {
      "image/png": "[encoded data removed]",
      "text/plain": [
       "<matplotlib.figure.Figure at 0x7f5b4dfe2b00>"
      ]
     },
     "metadata": {},
     "output_type": "display_data"
    },
    {
     "data": {
      "image/png": "[encoded data removed]",
      "text/plain": [
       "<matplotlib.figure.Figure at 0x7f5b4df6cda0>"
      ]
     },
     "metadata": {},
     "output_type": "display_data"
    }
   ],
   "source": [
    "# Plot the functions between a[0] and a[1]\n",
    "test_spectral = lambda x: spectral_func(a, b, gamma, x)\n",
    "\n",
    "# Prime derivative\n",
    "test_spectral_prime = lambda x: spectral_func_prime(a, b, x)\n",
    "\n",
    "# Slight perturbation to avoid divergence on the plot\n",
    "epsilon = 0.05\n",
    "linspace = np.linspace(a[1] + epsilon, a[0] - epsilon, 10000)\n",
    "\n",
    "# Compute the values and plot the original function\n",
    "values = [test_spectral(x) for x in linspace]\n",
    "plt.figure()\n",
    "plt.plot(linspace, values)\n",
    "\n",
    "# Compute the values and plot the derivative\n",
    "values_prime = [test_spectral_prime(x) for x in linspace]\n",
    "plt.figure()\n",
    "plt.plot(linspace, values_prime)\n",
    "\n",
    "# Show\n",
    "plt.show()"
   ]
  },
  {
   "cell_type": "code",
   "execution_count": 36,
   "metadata": {
    "collapsed": true
   },
   "outputs": [],
   "source": [
    "def interior_sigma_coef(a, b, gamma, x, k):\n",
    "    first_term = 3 * x - (gamma + a[k - 1] + a[k])\n",
    "    to_sum1 = np.power(b, 2) / (a - x)\n",
    "    to_sum2 = (a - a[k-1]) / (a - x)\n",
    "    to_sum3 = (a - a[k]) / (a - x)\n",
    "    return first_term + np.sum(to_sum1 * to_sum2 * to_sum3)"
   ]
  },
  {
   "cell_type": "code",
   "execution_count": 37,
   "metadata": {
    "collapsed": true
   },
   "outputs": [],
   "source": [
    "def interior_omega1_coef(a, b, gamma, x, k):\n",
    "    a_reduced = np.delete(a, k - 1)\n",
    "    b_reduced = np.delete(b, k - 1)\n",
    "    to_sum1 = np.power(b_reduced, 2) / np.power(a_reduced - x, 2)\n",
    "    to_sum2 = (a_reduced - a[k]) / (a_reduced - x)\n",
    "    fac = np.power(a[k - 1] - x, 3) / (a[k - 1] - a[k])\n",
    "    return b[k - 1] ** 2 + fac * (1 + np.sum(to_sum1 * to_sum2))"
   ]
  },
  {
   "cell_type": "code",
   "execution_count": 38,
   "metadata": {
    "collapsed": true
   },
   "outputs": [],
   "source": [
    "def interior_omega2_coef(a, b, gamma, x, k):\n",
    "    a_reduced = np.delete(a, k)\n",
    "    b_reduced = np.delete(b, k)\n",
    "    to_sum1 = np.power(b_reduced, 2) / np.power(a_reduced - x, 2)\n",
    "    to_sum2 = (a_reduced - a[k - 1]) / (a_reduced - x)\n",
    "    fac = np.power(x - a[k], 3) / (a[k - 1] - a[k])\n",
    "    return b[k] ** 2 + fac * (1 + np.sum(to_sum1 * to_sum2))"
   ]
  },
  {
   "cell_type": "code",
   "execution_count": 39,
   "metadata": {
    "collapsed": true
   },
   "outputs": [],
   "source": [
    "def rationnal_interpolation(a, b, gamma, x, y, k) : \n",
    "    sig = interior_omega1_coef(a, b, gamma, x, k)\n",
    "    omega1 = interior_omega1_coef(a, b, gamma, x, k)\n",
    "    omega2 = interior_omega2_coef(a, b, gamma, x, k)\n",
    "    return sig + omega1 / (a[k-1] - y) + omega1 / (a[k] - y)"
   ]
  },
  {
   "cell_type": "code",
   "execution_count": 40,
   "metadata": {},
   "outputs": [
    {
     "data": {
      "image/png": "[encoded data removed]",
      "text/plain": [
       "<matplotlib.figure.Figure at 0x7f5b4df41978>"
      ]
     },
     "metadata": {},
     "output_type": "display_data"
    }
   ],
   "source": [
    "# Plot the rationnal interpolation between a[0] and a[1] in (a[0] + a[1]) / 2\n",
    "x0 = (a[0] + a[1]) / 2\n",
    "\n",
    "# Slight perturbation to avoid divergence on the plot\n",
    "epsilon = 0.05\n",
    "linspace = np.linspace(a[1] + epsilon, a[0] - epsilon, 1000)\n",
    "\n",
    "# Rationnal interpolation\n",
    "test_inter = lambda y: rationnal_interpolation(a, b, gamma, x0, y, 1)\n",
    "values_inter = [test_inter(y) for y in linspace]\n",
    "\n",
    "# Original function within the same bounds\n",
    "test_spectral = lambda x: spectral_func(a, b, gamma, x)\n",
    "values = [test_spectral(x) for x in linspace]\n",
    "\n",
    "# Show\n",
    "plt.plot(linspace, values, label=\"Original\")\n",
    "plt.plot(linspace, values_inter, label=\"Interpolation\")\n",
    "plt.legend()\n",
    "plt.show()"
   ]
  },
  {
   "cell_type": "code",
   "execution_count": 111,
   "metadata": {},
   "outputs": [
    {
     "name": "stderr",
     "output_type": "stream",
     "text": [
      "/home/gauthier/anaconda3/lib/python3.6/site-packages/ipykernel_launcher.py:3: RuntimeWarning: divide by zero encountered in true_divide\n",
      "  This is separate from the ipykernel package so we can avoid doing imports until\n"
     ]
    },
    {
     "data": {
      "image/png": "[encoded data removed]",
      "text/plain": [
       "<matplotlib.figure.Figure at 0x7f5b4e216828>"
      ]
     },
     "metadata": {},
     "output_type": "display_data"
    }
   ],
   "source": [
    "# Plot the whole function to observe where all the roots are located\n",
    "linspace = np.linspace(-15, 40, 10000)\n",
    "\n",
    "# We want to clip the highest values to avoid a vertical line at the discontinuity\n",
    "def test_spectral_clipped (x, utol, ltol):\n",
    "    y=spectral_func(a, b, gamma, x)\n",
    "    if y>utol:\n",
    "        y= np.inf\n",
    "    if y<ltol:\n",
    "        y= -np.inf\n",
    "    return y\n",
    "\n",
    "test_spectral = lambda x: spectral_func(a, b, gamma, x)\n",
    "values = [test_spectral_clipped(x, 150, -150) for x in linspace]\n",
    "\n",
    "# We also highlight the y axis\n",
    "zero_axis= [0 for x in linspace]\n",
    "\n",
    "# Show\n",
    "plt.figure(figsize=(20,10))\n",
    "plt.plot(linspace, values, label=\"Original\")\n",
    "plt.plot(linspace, zero_axis)\n",
    "plt.legend()\n",
    "axes = plt.gca()\n",
    "axes.set_ylim([-100,100])\n",
    "\n",
    "plt.show()"
   ]
  },
  {
   "cell_type": "code",
   "execution_count": 41,
   "metadata": {
    "collapsed": true
   },
   "outputs": [],
   "source": [
    "def interior_alpha(a, b, gamma, x, k):\n",
    "    sig = interior_sigma_coef(a, b, gamma, x, k)\n",
    "    deno = (a[k - 1] - x) * (x - a[k])\n",
    "    return sig / deno"
   ]
  },
  {
   "cell_type": "code",
   "execution_count": 42,
   "metadata": {},
   "outputs": [],
   "source": [
    "def exterior_alpha(a, b, gamma, x, k):\n",
    "    somme = 0\n",
    "    if k==0:\n",
    "        for i in range (1,n-1):\n",
    "            to_sum1 = (np.power(b[i],2)*(a[0]-a[i]))/np.power(x-a[i],3)\n",
    "            somme +=  to_sum1\n",
    "        return -(1+somme)/(x-a[0])\n",
    "    else:\n",
    "        for i in range (0,n-2):\n",
    "            to_sum1 = (np.power(b[i],2)*(a[n-2]-a[i]))/np.power(x-a[i],3)\n",
    "            somme +=  to_sum1\n",
    "        return -(1+somme)/(x-a[n-2])\n",
    "    return sig / deno"
   ]
  },
  {
   "cell_type": "code",
   "execution_count": 52,
   "metadata": {
    "collapsed": true
   },
   "outputs": [],
   "source": [
    "def interior_beta(a, b, gamma, x, k):\n",
    "    prime = spectral_func_prime(a, b, x)\n",
    "    fac = (1 / (a[k - 1] - x)) + (1 / (a[k] - x))\n",
    "    func = spectral_func(a, b, gamma, x)\n",
    "    return prime - fac * func"
   ]
  },
  {
   "cell_type": "code",
   "execution_count": 53,
   "metadata": {
    "collapsed": true
   },
   "outputs": [],
   "source": [
    "def exterior_beta(a, b, gamma, x, k):\n",
    "    prime = spectral_func_prime(a, b, x)\n",
    "    func = spectral_func(a, b, gamma, x)\n",
    "    if k==0:\n",
    "        return prime + func/(x-a[0])\n",
    "    \n",
    "    else:\n",
    "        return prime - +func/(x-a[n-2])"
   ]
  },
  {
   "cell_type": "code",
   "execution_count": 54,
   "metadata": {},
   "outputs": [
    {
     "name": "stdout",
     "output_type": "stream",
     "text": [
      "[ 25.   19.5  18.5  17.5  16.5  15.5  14.5  13.5  12.5   7. ]\n",
      "[-58.597130317727377, 21.154894609914255, 64.791961705038673, 88.162583914224115, 98.674449763444471, 100.50186944256433, 96.428511277568731, 88.613812356105356]\n",
      "[-234.38852127090951, 84.619578439657019, 259.16784682015469, 352.65033565689646, 394.69779905377789, 402.00747777025731, 385.71404511027492, 354.45524942442142]\n"
     ]
    }
   ],
   "source": [
    "# Verification for the result yielded by the program in cuda C:\n",
    "x = np.zeros((n, ))\n",
    "for i in range(1, n-1):\n",
    "    x[i] = (a[i - 1] + a[i]) / 2\n",
    "x[0] = a[0] + 5\n",
    "x[n-1] = a[n-2] -5\n",
    "print(x)\n",
    "print([interior_sigma_coef(a, b, gamma, x[k], k) for k in range(1, n-1)])\n",
    "print([interior_alpha(a, b, gamma, x[k], k) for k in range(1, n-1)])"
   ]
  },
  {
   "cell_type": "code",
   "execution_count": 55,
   "metadata": {
    "collapsed": true
   },
   "outputs": [],
   "source": [
    "def interior_increment(a, b, gamma, x, k):\n",
    "    f = spectral_func(a, b, gamma, x)\n",
    "    beta = interior_beta(a, b, gamma, x, k)\n",
    "    alpha = interior_alpha(a, b, gamma, x, k)\n",
    "    term1 = 2 * f / beta\n",
    "    term2 = 2 * alpha / beta\n",
    "    deno = 1 + np.sqrt(1 + term1 * term2)\n",
    "    return term1 / deno"
   ]
  },
  {
   "cell_type": "code",
   "execution_count": 56,
   "metadata": {
    "collapsed": true
   },
   "outputs": [],
   "source": [
    "def exterior_increment(a, b, gamma, x, k):\n",
    "    f = spectral_func(a, b, gamma, x)\n",
    "    beta = exterior_beta(a, b, gamma, x, k)\n",
    "    alpha = exterior_alpha(a, b, gamma, x, k)\n",
    "    term1 = 2 * f / beta\n",
    "    term2 = 2 * alpha / beta\n",
    "    deno = 1 + np.sqrt(1 + term1 * term2)\n",
    "    return term1 / deno"
   ]
  },
  {
   "cell_type": "code",
   "execution_count": 81,
   "metadata": {
    "collapsed": true
   },
   "outputs": [],
   "source": [
    "def interior_zero_finder(a, b, gamma, x0, k, epsilon=0.000001, maxit=10000):\n",
    "    i = 0\n",
    "    dist = np.inf\n",
    "    x = x0\n",
    "    func_track = []\n",
    "    x_track = []\n",
    "    x_track.append(x0)\n",
    "    func = spectral_func(a, b, gamma, x) \n",
    "    func_track.append(func)\n",
    "    dist = func ** 2\n",
    "    while (dist > epsilon) and (i < maxit):\n",
    "        delta = interior_increment(a, b, gamma, x, k)\n",
    "        x -= delta\n",
    "        func = spectral_func(a, b, gamma, x) \n",
    "        dist = func ** 2\n",
    "        func_track.append(func)\n",
    "        x_track.append(x)\n",
    "        i+=1\n",
    "    return x, x_track, func_track"
   ]
  },
  {
   "cell_type": "code",
   "execution_count": 88,
   "metadata": {
    "collapsed": true
   },
   "outputs": [],
   "source": [
    "def exterior_zero_finder(a, b, gamma, x0, k, epsilon=0.000001, maxit=10000):\n",
    "    i = 0\n",
    "    dist = np.inf\n",
    "    x = x0\n",
    "    func_track = []\n",
    "    x_track = []\n",
    "    x_track.append(x0)\n",
    "    func = spectral_func(a, b, gamma, x) \n",
    "    func_track.append(func)\n",
    "    dist = func ** 2\n",
    "    while (dist > epsilon) and (i < maxit):\n",
    "        delta = exterior_increment(a, b, gamma, x, k)\n",
    "        x -= delta\n",
    "        func = spectral_func(a, b, gamma, x) \n",
    "        dist = func ** 2\n",
    "        func_track.append(func)\n",
    "        x_track.append(x)\n",
    "        i+=1\n",
    "    return x, x_track, func_track"
   ]
  },
  {
   "cell_type": "code",
   "execution_count": 89,
   "metadata": {},
   "outputs": [
    {
     "name": "stdout",
     "output_type": "stream",
     "text": [
      "[30.963849050833353, 19.534149402457878, 18.412100122600613, 17.324193762504851, 16.252151433710413, 15.18981925383949, 14.134600930693026, 13.08570317358234, 12.04393665330867, -11.940401371322386]\n"
     ]
    }
   ],
   "source": [
    "# Verification for the result yielded by the program in cuda C:\n",
    "x = np.zeros((n, ))\n",
    "for i in range(1, n-1):\n",
    "    x[i] = (a[i - 1] + a[i]) / 2\n",
    "x[0] = a[0] + 5\n",
    "x[n-1] = a[n-2] -5\n",
    "interior_zeros_list = []\n",
    "\n",
    "xopt, xtrack, functrack = exterior_zero_finder(a, b, gamma, x[0], 0)\n",
    "interior_zeros_list.append(xopt)\n",
    "\n",
    "for k in range(1, n-1):\n",
    "    xopt, xtrack, functrack = interior_zero_finder(a, b, gamma, x[k], k)\n",
    "    interior_zeros_list.append(xopt)\n",
    "\n",
    "xopt, xtrack, functrack = exterior_zero_finder(a, b, gamma, x[n-1], n-2)\n",
    "interior_zeros_list.append(xopt)\n",
    "\n",
    "print(interior_zeros_list)"
   ]
  },
  {
   "cell_type": "code",
   "execution_count": 86,
   "metadata": {},
   "outputs": [
    {
     "name": "stdout",
     "output_type": "stream",
     "text": [
      "[6.2888812564153544e-08, 2.8021601530898693e-25, 3.2809875469824115e-17, 1.3644114426134346e-11, 3.9365865428803701e-09, 9.1477023351840754e-08, 6.0340515432936302e-07, 4.8240737620437402e-25, 2.4036907326446318e-25, 6.3531637139069346e-08]\n"
     ]
    }
   ],
   "source": [
    "# Check if the spectral function is close to zeros at the roots\n",
    "error_list = [np.power(spectral_func(a, b, gamma, xopt),2) for xopt in interior_zeros_list]\n",
    "print(error_list)"
   ]
  }
 ],
 "metadata": {
  "kernelspec": {
   "display_name": "Python 3",
   "language": "python",
   "name": "python3"
  },
  "language_info": {
   "codemirror_mode": {
    "name": "ipython",
    "version": 3
   },
   "file_extension": ".py",
   "mimetype": "text/x-python",
   "name": "python",
   "nbconvert_exporter": "python",
   "pygments_lexer": "ipython3",
   "version": "3.6.1"
  }
 },
 "nbformat": 4,
 "nbformat_minor": 2
}
